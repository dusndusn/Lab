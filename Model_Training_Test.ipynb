{
 "cells": [
  {
   "cell_type": "code",
   "execution_count": 14,
   "metadata": {},
   "outputs": [],
   "source": [
    "import pandas as pd\n",
    "import torch\n",
    "from sklearn.model_selection import train_test_split\n",
    "from sklearn.preprocessing import LabelEncoder  # LabelEncoder 임포트\n",
    "\n",
    "# 데이터 읽기\n",
    "data = pd.read_csv('preprocessed_data.csv')\n",
    "\n",
    "# 데이터 정렬\n",
    "data_sorted = data.sort_values(by=['RID', 'VISCODE'])\n",
    "\n",
    "# y와 X 정의\n",
    "y = data_sorted['DX']\n",
    "X = data_sorted.drop(['RID', 'VISCODE', 'DX_bl', 'DX'], axis=1)\n",
    "\n",
    "# 학습 데이터와 테스트 데이터 분할\n",
    "X_train, X_test, y_train, y_test = train_test_split(X, y, test_size=0.2, stratify=data['DX'], random_state=42)\n",
    "\n",
    "# X_train과 X_test를 PyTorch 텐서로 변환\n",
    "X_train = torch.tensor(X_train.values, dtype=torch.float32)\n",
    "X_test = torch.tensor(X_test.values, dtype=torch.float32)\n",
    "\n",
    "# LabelEncoder로 y_train과 y_test를 숫자형으로 인코딩\n",
    "le = LabelEncoder()\n",
    "y_train_encoded = le.fit_transform(y_train)\n",
    "y_test_encoded = le.transform(y_test)\n",
    "\n",
    "# 인코딩된 값을 PyTorch 텐서로 변환\n",
    "y_train = torch.tensor(y_train_encoded, dtype=torch.long)\n",
    "y_test = torch.tensor(y_test_encoded, dtype=torch.long)\n"
   ]
  },
  {
   "cell_type": "code",
   "execution_count": 21,
   "metadata": {},
   "outputs": [],
   "source": [
    "import torch\n",
    "import torch.nn as nn\n",
    "\n",
    "class RNNModel(nn.Module):\n",
    "    def __init__(self, input_size, hidden_size, output_size, num_layers=1):\n",
    "        super(RNNModel, self).__init__()\n",
    "        self.rnn = nn.RNN(input_size, hidden_size, num_layers, batch_first=True)\n",
    "        self.fc = nn.Linear(hidden_size, output_size)\n",
    "    \n",
    "    def forward(self, x):\n",
    "        out, _ = self.rnn(x)  # out: (batch_size, seq_len, hidden_size)\n",
    "        # out의 차원이 2D라면 3D로 확장\n",
    "        if out.dim() == 2:\n",
    "            out = out.unsqueeze(1)  # (batch_size, 1, hidden_size)\n",
    "        out = out[:, -1, :]  # 마지막 시점의 출력만 사용\n",
    "        out = self.fc(out)   # Linear layer: (batch_size, output_size)\n",
    "        return out\n"
   ]
  },
  {
   "cell_type": "code",
   "execution_count": 25,
   "metadata": {},
   "outputs": [],
   "source": [
    "class GRUModel(nn.Module):\n",
    "    def __init__(self, input_size, hidden_size, output_size, num_layers=1):\n",
    "        super(GRUModel, self).__init__()\n",
    "        self.gru = nn.GRU(input_size, hidden_size, num_layers, batch_first=True)\n",
    "        self.fc = nn.Linear(hidden_size, output_size)\n",
    "    \n",
    "    def forward(self, x):\n",
    "        out, _ = self.gru(x)  # out: (batch_size, seq_len, hidden_size)\n",
    "        # out의 차원이 2D라면 3D로 확장\n",
    "        if out.dim() == 2:\n",
    "            out = out.unsqueeze(1)  # (batch_size, 1, hidden_size)\n",
    "        out = out[:, -1, :]  # 마지막 시점의 출력만 사용\n",
    "        out = self.fc(out)   # Linear layer: (batch_size, output_size)\n",
    "        return out\n"
   ]
  },
  {
   "cell_type": "code",
   "execution_count": 27,
   "metadata": {},
   "outputs": [],
   "source": [
    "class LSTMModel(nn.Module):\n",
    "    def __init__(self, input_size, hidden_size, output_size, num_layers=1):\n",
    "        super(LSTMModel, self).__init__()\n",
    "        self.lstm = nn.LSTM(input_size, hidden_size, num_layers, batch_first=True)\n",
    "        self.fc = nn.Linear(hidden_size, output_size)\n",
    "    \n",
    "    def forward(self, x):\n",
    "        out, _ = self.lstm(x)  # out: (batch_size, seq_len, hidden_size)\n",
    "        # out의 차원이 2D라면 3D로 확장\n",
    "        if out.dim() == 2:\n",
    "            out = out.unsqueeze(1)  # (batch_size, 1, hidden_size)\n",
    "        out = out[:, -1, :]  # 마지막 시점의 출력만 사용\n",
    "        out = self.fc(out)   # Linear layer: (batch_size, output_size)\n",
    "        return out\n"
   ]
  },
  {
   "cell_type": "code",
   "execution_count": 22,
   "metadata": {},
   "outputs": [],
   "source": [
    "from sklearn.metrics import accuracy_score, f1_score, precision_score, recall_score\n",
    "\n",
    "# 평가 함수 정의\n",
    "def evaluate_model(model, X_test, y_test):\n",
    "    model.eval()  # 평가 모드\n",
    "    with torch.no_grad():\n",
    "        outputs = model(X_test)\n",
    "        _, predicted = torch.max(outputs, 1)\n",
    "    \n",
    "    # 정확도, F1 점수, 정밀도, 재현율 계산\n",
    "    accuracy = accuracy_score(y_test, predicted)\n",
    "    f1_macro = f1_score(y_test, predicted, average='macro')\n",
    "    f1_micro = f1_score(y_test, predicted, average='micro')\n",
    "    precision_macro = precision_score(y_test, predicted, average='macro')\n",
    "    precision_micro = precision_score(y_test, predicted, average='micro')\n",
    "    recall_macro = recall_score(y_test, predicted, average='macro')\n",
    "    recall_micro = recall_score(y_test, predicted, average='micro')\n",
    "\n",
    "    print(f'Accuracy: {accuracy}')\n",
    "    print(f'F1 Score (Macro): {f1_macro}')\n",
    "    print(f'F1 Score (Micro): {f1_micro}')\n",
    "    print(f'Precision (Macro): {precision_macro}')\n",
    "    print(f'Precision (Micro): {precision_micro}')\n",
    "    print(f'Recall (Macro): {recall_macro}')\n",
    "    print(f'Recall (Micro): {recall_micro}')\n"
   ]
  },
  {
   "cell_type": "code",
   "execution_count": 23,
   "metadata": {},
   "outputs": [
    {
     "name": "stdout",
     "output_type": "stream",
     "text": [
      "Epoch [2/10], Loss: 2.7659\n",
      "Accuracy: 0.5404040404040404\n",
      "F1 Score (Macro): 0.16374227433705946\n",
      "F1 Score (Micro): 0.5404040404040404\n",
      "Precision (Macro): 0.1354017896733876\n",
      "Precision (Micro): 0.5404040404040404\n",
      "Recall (Macro): 0.21479229989868287\n",
      "Recall (Micro): 0.5404040404040404\n"
     ]
    },
    {
     "name": "stderr",
     "output_type": "stream",
     "text": [
      "c:\\ProgramData\\anaconda3\\Lib\\site-packages\\sklearn\\metrics\\_classification.py:1531: UndefinedMetricWarning: Precision is ill-defined and being set to 0.0 in labels with no predicted samples. Use `zero_division` parameter to control this behavior.\n",
      "  _warn_prf(average, modifier, f\"{metric.capitalize()} is\", len(result))\n"
     ]
    },
    {
     "name": "stdout",
     "output_type": "stream",
     "text": [
      "Epoch [4/10], Loss: 4.3447\n",
      "Accuracy: 0.3595959595959596\n",
      "F1 Score (Macro): 0.13119213148530737\n",
      "F1 Score (Micro): 0.3595959595959596\n",
      "Precision (Macro): 0.10686679844112233\n",
      "Precision (Micro): 0.3595959595959596\n",
      "Recall (Macro): 0.2119779353821907\n",
      "Recall (Micro): 0.3595959595959596\n"
     ]
    },
    {
     "name": "stderr",
     "output_type": "stream",
     "text": [
      "c:\\ProgramData\\anaconda3\\Lib\\site-packages\\sklearn\\metrics\\_classification.py:1531: UndefinedMetricWarning: Precision is ill-defined and being set to 0.0 in labels with no predicted samples. Use `zero_division` parameter to control this behavior.\n",
      "  _warn_prf(average, modifier, f\"{metric.capitalize()} is\", len(result))\n"
     ]
    },
    {
     "name": "stdout",
     "output_type": "stream",
     "text": [
      "Epoch [6/10], Loss: 2.0423\n",
      "Accuracy: 0.2636363636363636\n",
      "F1 Score (Macro): 0.10762366044657158\n",
      "F1 Score (Micro): 0.2636363636363636\n",
      "Precision (Macro): 0.20268155645347596\n",
      "Precision (Micro): 0.2636363636363636\n",
      "Recall (Macro): 0.20754493094918627\n",
      "Recall (Micro): 0.2636363636363636\n"
     ]
    },
    {
     "name": "stderr",
     "output_type": "stream",
     "text": [
      "c:\\ProgramData\\anaconda3\\Lib\\site-packages\\sklearn\\metrics\\_classification.py:1531: UndefinedMetricWarning: Precision is ill-defined and being set to 0.0 in labels with no predicted samples. Use `zero_division` parameter to control this behavior.\n",
      "  _warn_prf(average, modifier, f\"{metric.capitalize()} is\", len(result))\n"
     ]
    },
    {
     "name": "stdout",
     "output_type": "stream",
     "text": [
      "Epoch [8/10], Loss: 1.6800\n",
      "Accuracy: 0.4535353535353535\n",
      "F1 Score (Macro): 0.1500982563666795\n",
      "F1 Score (Micro): 0.4535353535353535\n",
      "Precision (Macro): 0.2326943278455577\n",
      "Precision (Micro): 0.4535353535353535\n",
      "Recall (Macro): 0.21287806491302563\n",
      "Recall (Micro): 0.4535353535353535\n"
     ]
    },
    {
     "name": "stderr",
     "output_type": "stream",
     "text": [
      "c:\\ProgramData\\anaconda3\\Lib\\site-packages\\sklearn\\metrics\\_classification.py:1531: UndefinedMetricWarning: Precision is ill-defined and being set to 0.0 in labels with no predicted samples. Use `zero_division` parameter to control this behavior.\n",
      "  _warn_prf(average, modifier, f\"{metric.capitalize()} is\", len(result))\n"
     ]
    },
    {
     "name": "stdout",
     "output_type": "stream",
     "text": [
      "Epoch [10/10], Loss: 2.2386\n",
      "Accuracy: 0.4535353535353535\n",
      "F1 Score (Macro): 0.1500982563666795\n",
      "F1 Score (Micro): 0.4535353535353535\n",
      "Precision (Macro): 0.2326943278455577\n",
      "Precision (Micro): 0.4535353535353535\n",
      "Recall (Macro): 0.21287806491302563\n",
      "Recall (Micro): 0.4535353535353535\n"
     ]
    },
    {
     "name": "stderr",
     "output_type": "stream",
     "text": [
      "c:\\ProgramData\\anaconda3\\Lib\\site-packages\\sklearn\\metrics\\_classification.py:1531: UndefinedMetricWarning: Precision is ill-defined and being set to 0.0 in labels with no predicted samples. Use `zero_division` parameter to control this behavior.\n",
      "  _warn_prf(average, modifier, f\"{metric.capitalize()} is\", len(result))\n"
     ]
    }
   ],
   "source": [
    "def train_model(model, X_train, y_train, X_test, y_test, epochs=10, batch_size=32):\n",
    "    criterion = nn.CrossEntropyLoss()  # 다중 클래스 분류를 위한 손실 함수\n",
    "    optimizer = torch.optim.Adam(model.parameters(), lr=0.001)\n",
    "\n",
    "    # 훈련 루프\n",
    "    for epoch in range(epochs):\n",
    "        model.train()  # 훈련 모드\n",
    "        optimizer.zero_grad()  # 경사 초기화\n",
    "\n",
    "        # 배치 처리 (전체 데이터를 배치 사이즈로 나누기)\n",
    "        for i in range(0, len(X_train), batch_size):\n",
    "            inputs = X_train[i:i+batch_size]\n",
    "            targets = y_train[i:i+batch_size]\n",
    "\n",
    "            # 순방향 전파\n",
    "            outputs = model(inputs)\n",
    "            loss = criterion(outputs, targets)\n",
    "\n",
    "            # 역방향 전파\n",
    "            loss.backward()\n",
    "            optimizer.step()\n",
    "\n",
    "        # 에폭마다 성능 평가\n",
    "        if (epoch+1) % 2 == 0:\n",
    "            print(f\"Epoch [{epoch+1}/{epochs}], Loss: {loss.item():.4f}\")\n",
    "            evaluate_model(model, X_test, y_test)\n",
    "\n",
    "# 모델 인스턴스 생성 및 훈련\n",
    "input_size = X_train.shape[1]  # 입력 크기\n",
    "output_size = len(y.unique())  # 클래스 수 (진단 유형)\n",
    "hidden_size = 64  # 은닉층 크기\n",
    "\n",
    "# 모델 선택 (RNN, GRU, LSTM 중 하나 선택)\n",
    "model = RNNModel(input_size, hidden_size, output_size)\n",
    "\n",
    "# 모델 훈련\n",
    "train_model(model, X_train, y_train, X_test, y_test, epochs=10)\n"
   ]
  },
  {
   "cell_type": "code",
   "execution_count": 26,
   "metadata": {},
   "outputs": [
    {
     "name": "stdout",
     "output_type": "stream",
     "text": [
      "Epoch [2/10], Loss: 1.4735\n",
      "Accuracy: 0.5616161616161616\n",
      "F1 Score (Macro): 0.1824500086720597\n",
      "F1 Score (Micro): 0.5616161616161616\n",
      "Precision (Macro): 0.19310417731470364\n",
      "Precision (Micro): 0.5616161616161616\n",
      "Recall (Macro): 0.2226244077572761\n",
      "Recall (Micro): 0.5616161616161616\n"
     ]
    },
    {
     "name": "stderr",
     "output_type": "stream",
     "text": [
      "c:\\ProgramData\\anaconda3\\Lib\\site-packages\\sklearn\\metrics\\_classification.py:1531: UndefinedMetricWarning: Precision is ill-defined and being set to 0.0 in labels with no predicted samples. Use `zero_division` parameter to control this behavior.\n",
      "  _warn_prf(average, modifier, f\"{metric.capitalize()} is\", len(result))\n"
     ]
    },
    {
     "name": "stdout",
     "output_type": "stream",
     "text": [
      "Epoch [4/10], Loss: 1.0668\n",
      "Accuracy: 0.5626262626262626\n",
      "F1 Score (Macro): 0.17776191628249322\n",
      "F1 Score (Micro): 0.5626262626262626\n",
      "Precision (Macro): 0.15824434274091026\n",
      "Precision (Micro): 0.5626262626262626\n",
      "Recall (Macro): 0.2222222222222222\n",
      "Recall (Micro): 0.5626262626262626\n"
     ]
    },
    {
     "name": "stderr",
     "output_type": "stream",
     "text": [
      "c:\\ProgramData\\anaconda3\\Lib\\site-packages\\sklearn\\metrics\\_classification.py:1531: UndefinedMetricWarning: Precision is ill-defined and being set to 0.0 in labels with no predicted samples. Use `zero_division` parameter to control this behavior.\n",
      "  _warn_prf(average, modifier, f\"{metric.capitalize()} is\", len(result))\n"
     ]
    },
    {
     "name": "stdout",
     "output_type": "stream",
     "text": [
      "Epoch [6/10], Loss: 1.3757\n",
      "Accuracy: 0.4696969696969697\n",
      "F1 Score (Macro): 0.17803837121300783\n",
      "F1 Score (Micro): 0.4696969696969697\n",
      "Precision (Macro): 0.1830346399399782\n",
      "Precision (Micro): 0.4696969696969697\n",
      "Recall (Macro): 0.2164318715921082\n",
      "Recall (Micro): 0.4696969696969697\n"
     ]
    },
    {
     "name": "stderr",
     "output_type": "stream",
     "text": [
      "c:\\ProgramData\\anaconda3\\Lib\\site-packages\\sklearn\\metrics\\_classification.py:1531: UndefinedMetricWarning: Precision is ill-defined and being set to 0.0 in labels with no predicted samples. Use `zero_division` parameter to control this behavior.\n",
      "  _warn_prf(average, modifier, f\"{metric.capitalize()} is\", len(result))\n"
     ]
    },
    {
     "name": "stdout",
     "output_type": "stream",
     "text": [
      "Epoch [8/10], Loss: 1.4077\n",
      "Accuracy: 0.5646464646464646\n",
      "F1 Score (Macro): 0.1800761071243675\n",
      "F1 Score (Micro): 0.5646464646464646\n",
      "Precision (Macro): 0.2703216374269006\n",
      "Precision (Micro): 0.5646464646464646\n",
      "Recall (Macro): 0.22314430613185798\n",
      "Recall (Micro): 0.5646464646464646\n"
     ]
    },
    {
     "name": "stderr",
     "output_type": "stream",
     "text": [
      "c:\\ProgramData\\anaconda3\\Lib\\site-packages\\sklearn\\metrics\\_classification.py:1531: UndefinedMetricWarning: Precision is ill-defined and being set to 0.0 in labels with no predicted samples. Use `zero_division` parameter to control this behavior.\n",
      "  _warn_prf(average, modifier, f\"{metric.capitalize()} is\", len(result))\n"
     ]
    },
    {
     "name": "stdout",
     "output_type": "stream",
     "text": [
      "Epoch [10/10], Loss: 1.1478\n",
      "Accuracy: 0.5161616161616162\n",
      "F1 Score (Macro): 0.20450516089860352\n",
      "F1 Score (Micro): 0.5161616161616162\n",
      "Precision (Macro): 0.19292170374927134\n",
      "Precision (Micro): 0.5161616161616162\n",
      "Recall (Macro): 0.22049856992913408\n",
      "Recall (Micro): 0.5161616161616162\n"
     ]
    },
    {
     "name": "stderr",
     "output_type": "stream",
     "text": [
      "c:\\ProgramData\\anaconda3\\Lib\\site-packages\\sklearn\\metrics\\_classification.py:1531: UndefinedMetricWarning: Precision is ill-defined and being set to 0.0 in labels with no predicted samples. Use `zero_division` parameter to control this behavior.\n",
      "  _warn_prf(average, modifier, f\"{metric.capitalize()} is\", len(result))\n"
     ]
    }
   ],
   "source": [
    "model_gru = GRUModel(input_size, hidden_size, output_size)\n",
    "\n",
    "# 모델 훈련\n",
    "train_model(model_gru, X_train, y_train, X_test, y_test, epochs=10)"
   ]
  },
  {
   "cell_type": "code",
   "execution_count": 28,
   "metadata": {},
   "outputs": [
    {
     "name": "stdout",
     "output_type": "stream",
     "text": [
      "Epoch [2/10], Loss: 1.3119\n",
      "Accuracy: 0.32626262626262625\n",
      "F1 Score (Macro): 0.1267097606417932\n",
      "F1 Score (Micro): 0.32626262626262625\n",
      "Precision (Macro): 0.11725632281898266\n",
      "Precision (Micro): 0.32626262626262625\n",
      "Recall (Macro): 0.19980506822612087\n",
      "Recall (Micro): 0.32626262626262625\n"
     ]
    },
    {
     "name": "stderr",
     "output_type": "stream",
     "text": [
      "c:\\ProgramData\\anaconda3\\Lib\\site-packages\\sklearn\\metrics\\_classification.py:1531: UndefinedMetricWarning: Precision is ill-defined and being set to 0.0 in labels with no predicted samples. Use `zero_division` parameter to control this behavior.\n",
      "  _warn_prf(average, modifier, f\"{metric.capitalize()} is\", len(result))\n"
     ]
    },
    {
     "name": "stdout",
     "output_type": "stream",
     "text": [
      "Epoch [4/10], Loss: 1.2294\n",
      "Accuracy: 0.5626262626262626\n",
      "F1 Score (Macro): 0.17486733001658375\n",
      "F1 Score (Micro): 0.5626262626262626\n",
      "Precision (Macro): 0.15176404274654612\n",
      "Precision (Micro): 0.5626262626262626\n",
      "Recall (Macro): 0.2222222222222222\n",
      "Recall (Micro): 0.5626262626262626\n"
     ]
    },
    {
     "name": "stderr",
     "output_type": "stream",
     "text": [
      "c:\\ProgramData\\anaconda3\\Lib\\site-packages\\sklearn\\metrics\\_classification.py:1531: UndefinedMetricWarning: Precision is ill-defined and being set to 0.0 in labels with no predicted samples. Use `zero_division` parameter to control this behavior.\n",
      "  _warn_prf(average, modifier, f\"{metric.capitalize()} is\", len(result))\n"
     ]
    },
    {
     "name": "stdout",
     "output_type": "stream",
     "text": [
      "Epoch [6/10], Loss: 0.9970\n",
      "Accuracy: 0.5616161616161616\n",
      "F1 Score (Macro): 0.17424523390392413\n",
      "F1 Score (Micro): 0.5616161616161616\n",
      "Precision (Macro): 0.1506492256803488\n",
      "Precision (Micro): 0.5616161616161616\n",
      "Recall (Macro): 0.22188449848024316\n",
      "Recall (Micro): 0.5616161616161616\n"
     ]
    },
    {
     "name": "stderr",
     "output_type": "stream",
     "text": [
      "c:\\ProgramData\\anaconda3\\Lib\\site-packages\\sklearn\\metrics\\_classification.py:1531: UndefinedMetricWarning: Precision is ill-defined and being set to 0.0 in labels with no predicted samples. Use `zero_division` parameter to control this behavior.\n",
      "  _warn_prf(average, modifier, f\"{metric.capitalize()} is\", len(result))\n"
     ]
    },
    {
     "name": "stdout",
     "output_type": "stream",
     "text": [
      "Epoch [8/10], Loss: 0.9986\n",
      "Accuracy: 0.5262626262626262\n",
      "F1 Score (Macro): 0.21110453397283957\n",
      "F1 Score (Micro): 0.5262626262626262\n",
      "Precision (Macro): 0.22160285000611823\n",
      "Precision (Micro): 0.5262626262626262\n",
      "Recall (Macro): 0.2252210969435301\n",
      "Recall (Micro): 0.5262626262626262\n"
     ]
    },
    {
     "name": "stderr",
     "output_type": "stream",
     "text": [
      "c:\\ProgramData\\anaconda3\\Lib\\site-packages\\sklearn\\metrics\\_classification.py:1531: UndefinedMetricWarning: Precision is ill-defined and being set to 0.0 in labels with no predicted samples. Use `zero_division` parameter to control this behavior.\n",
      "  _warn_prf(average, modifier, f\"{metric.capitalize()} is\", len(result))\n"
     ]
    },
    {
     "name": "stdout",
     "output_type": "stream",
     "text": [
      "Epoch [10/10], Loss: 1.0349\n",
      "Accuracy: 0.46565656565656566\n",
      "F1 Score (Macro): 0.17243194560163036\n",
      "F1 Score (Micro): 0.46565656565656566\n",
      "Precision (Macro): 0.17727240765477298\n",
      "Precision (Micro): 0.46565656565656566\n",
      "Recall (Macro): 0.22278462801107807\n",
      "Recall (Micro): 0.46565656565656566\n"
     ]
    },
    {
     "name": "stderr",
     "output_type": "stream",
     "text": [
      "c:\\ProgramData\\anaconda3\\Lib\\site-packages\\sklearn\\metrics\\_classification.py:1531: UndefinedMetricWarning: Precision is ill-defined and being set to 0.0 in labels with no predicted samples. Use `zero_division` parameter to control this behavior.\n",
      "  _warn_prf(average, modifier, f\"{metric.capitalize()} is\", len(result))\n"
     ]
    }
   ],
   "source": [
    "model_lstm = LSTMModel(input_size, hidden_size, output_size)\n",
    "\n",
    "# 모델 훈련\n",
    "train_model(model_lstm, X_train, y_train, X_test, y_test, epochs=10)"
   ]
  },
  {
   "cell_type": "markdown",
   "metadata": {},
   "source": [
    "Why was micro or macro averaging used for performance metrics?\n",
    "\n",
    "micro averaging은 data point가 더 많은 클래스에 더 가중치를 주고 싶을 때 이용. works for imbalanced datasets where certain classes may have significantly more samples than others\n",
    "\n",
    "macro averaging은 모든 클래스를 동일하게 취급할 때 이용. \n",
    "\n",
    "-micro가 더 잘 나옴. 특정 class가 더 data point 많았기 때문일 듯."
   ]
  }
 ],
 "metadata": {
  "kernelspec": {
   "display_name": "Python 3",
   "language": "python",
   "name": "python3"
  },
  "language_info": {
   "codemirror_mode": {
    "name": "ipython",
    "version": 3
   },
   "file_extension": ".py",
   "mimetype": "text/x-python",
   "name": "python",
   "nbconvert_exporter": "python",
   "pygments_lexer": "ipython3",
   "version": "3.12.4"
  }
 },
 "nbformat": 4,
 "nbformat_minor": 2
}
